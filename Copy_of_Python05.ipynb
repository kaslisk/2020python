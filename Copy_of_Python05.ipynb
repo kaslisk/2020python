{
  "nbformat": 4,
  "nbformat_minor": 0,
  "metadata": {
    "colab": {
      "name": "Copy of Python05.ipynb",
      "provenance": [],
      "include_colab_link": true
    },
    "kernelspec": {
      "name": "python3",
      "display_name": "Python 3"
    }
  },
  "cells": [
    {
      "cell_type": "markdown",
      "metadata": {
        "id": "view-in-github",
        "colab_type": "text"
      },
      "source": [
        "<a href=\"https://colab.research.google.com/github/kaslisk/2020python/blob/master/Copy_of_Python05.ipynb\" target=\"_parent\"><img src=\"https://colab.research.google.com/assets/colab-badge.svg\" alt=\"Open In Colab\"/></a>"
      ]
    },
    {
      "cell_type": "markdown",
      "metadata": {
        "id": "_sIeTutwNGJK",
        "colab_type": "text"
      },
      "source": [
        "# **Strings**"
      ]
    },
    {
      "cell_type": "code",
      "metadata": {
        "id": "c0Laao7eMfF0",
        "colab_type": "code",
        "colab": {}
      },
      "source": [
        "# 3 ways to declare strings\n",
        "s1 = 'good morning' # single quote\n",
        "s2 = \"Tom's cat\" # double quote\n",
        "\n",
        "'''\n",
        "this is text\n",
        "'''   # triple quote\n"
      ],
      "execution_count": 0,
      "outputs": []
    },
    {
      "cell_type": "code",
      "metadata": {
        "id": "EcA9hvUeaEHb",
        "colab_type": "code",
        "colab": {
          "base_uri": "https://localhost:8080/",
          "height": 34
        },
        "outputId": "3d8a82e4-11c3-4eaa-b7ad-c922a86c5099"
      },
      "source": [
        "# string operation - length\n",
        "s1 = 'good morning'\n",
        "len(s1)"
      ],
      "execution_count": 1,
      "outputs": [
        {
          "output_type": "execute_result",
          "data": {
            "text/plain": [
              "12"
            ]
          },
          "metadata": {
            "tags": []
          },
          "execution_count": 1
        }
      ]
    },
    {
      "cell_type": "code",
      "metadata": {
        "id": "iTVUAG1xbh6v",
        "colab_type": "code",
        "colab": {}
      },
      "source": [
        "# string operation - ord\n"
      ],
      "execution_count": 0,
      "outputs": []
    },
    {
      "cell_type": "code",
      "metadata": {
        "id": "lAiFKixsbrGe",
        "colab_type": "code",
        "colab": {}
      },
      "source": [
        "# string operation - chr\n"
      ],
      "execution_count": 0,
      "outputs": []
    },
    {
      "cell_type": "code",
      "metadata": {
        "id": "NNwtPfDobws3",
        "colab_type": "code",
        "colab": {}
      },
      "source": [
        "# string operation - str"
      ],
      "execution_count": 0,
      "outputs": []
    },
    {
      "cell_type": "code",
      "metadata": {
        "id": "OeQ7k5ZHZhZv",
        "colab_type": "code",
        "colab": {}
      },
      "source": [
        "# accessing individual characters\n",
        "# first\n",
        "# last\n",
        "# last\n"
      ],
      "execution_count": 0,
      "outputs": []
    },
    {
      "cell_type": "code",
      "metadata": {
        "id": "Aq2iiGW0azMO",
        "colab_type": "code",
        "colab": {}
      },
      "source": [
        "# for in\n"
      ],
      "execution_count": 0,
      "outputs": []
    },
    {
      "cell_type": "code",
      "metadata": {
        "id": "jtSOADYEZ4qZ",
        "colab_type": "code",
        "colab": {}
      },
      "source": [
        "# strings are immutable!\n"
      ],
      "execution_count": 0,
      "outputs": []
    },
    {
      "cell_type": "code",
      "metadata": {
        "id": "epoj8FTtaf6z",
        "colab_type": "code",
        "outputId": "37f390d2-cf7a-4a6d-b9a6-be93d6c3c6b4",
        "colab": {
          "base_uri": "https://localhost:8080/",
          "height": 35
        }
      },
      "source": [
        "# string operation - slicing / substring\n",
        "s = \"123\"\n",
        "s[1:]"
      ],
      "execution_count": 0,
      "outputs": [
        {
          "output_type": "execute_result",
          "data": {
            "text/plain": [
              "'23'"
            ]
          },
          "metadata": {
            "tags": []
          },
          "execution_count": 1
        }
      ]
    },
    {
      "cell_type": "code",
      "metadata": {
        "id": "iUrkzp9wZqiy",
        "colab_type": "code",
        "colab": {}
      },
      "source": [
        "# string operation - concatenate\n"
      ],
      "execution_count": 0,
      "outputs": []
    },
    {
      "cell_type": "code",
      "metadata": {
        "id": "DJzOiEtYZuOB",
        "colab_type": "code",
        "colab": {}
      },
      "source": [
        "# string operation - duplicate\n"
      ],
      "execution_count": 0,
      "outputs": []
    },
    {
      "cell_type": "code",
      "metadata": {
        "id": "8Nbhi3FgaHCK",
        "colab_type": "code",
        "colab": {}
      },
      "source": [
        "# string operation - case\n",
        "# upper\n",
        "# lower"
      ],
      "execution_count": 0,
      "outputs": []
    },
    {
      "cell_type": "code",
      "metadata": {
        "id": "uSSHC-4saPIb",
        "colab_type": "code",
        "colab": {}
      },
      "source": [
        "# string operation - check numeric\n"
      ],
      "execution_count": 0,
      "outputs": []
    },
    {
      "cell_type": "code",
      "metadata": {
        "id": "lxGeAHKKaS0a",
        "colab_type": "code",
        "colab": {}
      },
      "source": [
        "# string operation - check alphanumeric\n"
      ],
      "execution_count": 0,
      "outputs": []
    },
    {
      "cell_type": "code",
      "metadata": {
        "id": "mUMhd32EbLWp",
        "colab_type": "code",
        "colab": {}
      },
      "source": [
        "# string operation - reverse\n"
      ],
      "execution_count": 0,
      "outputs": []
    },
    {
      "cell_type": "code",
      "metadata": {
        "id": "mWEuim0YcHIy",
        "colab_type": "code",
        "colab": {}
      },
      "source": [
        "# string formatting\n",
        "# format method\n",
        "# f-string (new from Python 3.6)"
      ],
      "execution_count": 0,
      "outputs": []
    }
  ]
}