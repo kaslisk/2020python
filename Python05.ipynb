{
  "nbformat": 4,
  "nbformat_minor": 0,
  "metadata": {
    "colab": {
      "name": "Copy of Python05.ipynb",
      "provenance": [],
      "include_colab_link": true
    },
    "kernelspec": {
      "name": "python3",
      "display_name": "Python 3"
    }
  },
  "cells": [
    {
      "cell_type": "markdown",
      "metadata": {
        "id": "view-in-github",
        "colab_type": "text"
      },
      "source": [
        "<a href=\"https://colab.research.google.com/github/kaslisk/2020python/blob/master/Python05.ipynb\" target=\"_parent\"><img src=\"https://colab.research.google.com/assets/colab-badge.svg\" alt=\"Open In Colab\"/></a>"
      ]
    },
    {
      "cell_type": "markdown",
      "metadata": {
        "id": "_sIeTutwNGJK",
        "colab_type": "text"
      },
      "source": [
        "# **Strings**"
      ]
    },
    {
      "cell_type": "code",
      "metadata": {
        "id": "c0Laao7eMfF0",
        "colab_type": "code",
        "colab": {}
      },
      "source": [
        "# 3 ways to declare strings\n",
        "s1 = 'good morning' # single quote\n",
        "s2 = \"Tom's cat\" # double quote\n",
        "\n",
        "'''\n",
        "this is text\n",
        "'''   # triple quote\n"
      ],
      "execution_count": 0,
      "outputs": []
    },
    {
      "cell_type": "code",
      "metadata": {
        "id": "EcA9hvUeaEHb",
        "colab_type": "code",
        "colab": {
          "base_uri": "https://localhost:8080/",
          "height": 34
        },
        "outputId": "d38d9939-efb1-4773-c72c-f123c9213880"
      },
      "source": [
        "# string operation - length\n",
        "s1 = 'good morning'\n",
        "len(s1)"
      ],
      "execution_count": 3,
      "outputs": [
        {
          "output_type": "execute_result",
          "data": {
            "text/plain": [
              "12"
            ]
          },
          "metadata": {
            "tags": []
          },
          "execution_count": 3
        }
      ]
    },
    {
      "cell_type": "code",
      "metadata": {
        "id": "iTVUAG1xbh6v",
        "colab_type": "code",
        "colab": {
          "base_uri": "https://localhost:8080/",
          "height": 34
        },
        "outputId": "c8c9589a-6710-4adc-e2bd-6649842430fb"
      },
      "source": [
        "# string operation - ord\n",
        "ord(\"A\")"
      ],
      "execution_count": 5,
      "outputs": [
        {
          "output_type": "execute_result",
          "data": {
            "text/plain": [
              "65"
            ]
          },
          "metadata": {
            "tags": []
          },
          "execution_count": 5
        }
      ]
    },
    {
      "cell_type": "code",
      "metadata": {
        "id": "lAiFKixsbrGe",
        "colab_type": "code",
        "colab": {
          "base_uri": "https://localhost:8080/",
          "height": 34
        },
        "outputId": "d2332ab7-cf21-4fb5-d314-e62536599a2f"
      },
      "source": [
        "# string operation - chr\n",
        "chr(65)"
      ],
      "execution_count": 6,
      "outputs": [
        {
          "output_type": "execute_result",
          "data": {
            "text/plain": [
              "'A'"
            ]
          },
          "metadata": {
            "tags": []
          },
          "execution_count": 6
        }
      ]
    },
    {
      "cell_type": "code",
      "metadata": {
        "id": "NNwtPfDobws3",
        "colab_type": "code",
        "colab": {}
      },
      "source": [
        "# string operation - str\n",
        "str(123)"
      ],
      "execution_count": 0,
      "outputs": []
    },
    {
      "cell_type": "code",
      "metadata": {
        "id": "OeQ7k5ZHZhZv",
        "colab_type": "code",
        "colab": {
          "base_uri": "https://localhost:8080/",
          "height": 34
        },
        "outputId": "def58b74-58b8-4f87-d366-465eedec4278"
      },
      "source": [
        "# accessing individual characters\n",
        "s1 = 'spiderman'\n",
        "s1[0] # first\n",
        "s1[1] # second\n",
        "s1[len(s1) - 1]\n",
        "s1[-1] # last\n"
      ],
      "execution_count": 13,
      "outputs": [
        {
          "output_type": "execute_result",
          "data": {
            "text/plain": [
              "'n'"
            ]
          },
          "metadata": {
            "tags": []
          },
          "execution_count": 13
        }
      ]
    },
    {
      "cell_type": "code",
      "metadata": {
        "id": "Aq2iiGW0azMO",
        "colab_type": "code",
        "colab": {
          "base_uri": "https://localhost:8080/",
          "height": 170
        },
        "outputId": "f1252104-4f9d-4c57-95f9-605a0d1063d2"
      },
      "source": [
        "# for in\n",
        "\n",
        "for char in s1:\n",
        "  print(char)"
      ],
      "execution_count": 12,
      "outputs": [
        {
          "output_type": "stream",
          "text": [
            "s\n",
            "p\n",
            "i\n",
            "d\n",
            "e\n",
            "r\n",
            "m\n",
            "a\n",
            "n\n"
          ],
          "name": "stdout"
        }
      ]
    },
    {
      "cell_type": "code",
      "metadata": {
        "id": "jtSOADYEZ4qZ",
        "colab_type": "code",
        "colab": {}
      },
      "source": [
        "# strings are immutable!\n",
        "s1= 'Tom'\n",
        "s1[0] = 'M'"
      ],
      "execution_count": 0,
      "outputs": []
    },
    {
      "cell_type": "code",
      "metadata": {
        "id": "epoj8FTtaf6z",
        "colab_type": "code",
        "outputId": "364f0919-3261-4911-805b-5c3ee13757e2",
        "colab": {
          "base_uri": "https://localhost:8080/",
          "height": 34
        }
      },
      "source": [
        "# string operation - slicing / substring\n",
        "s = \"spiderman\"\n",
        "s[:6]\n",
        "s[6 : len(s)]\n",
        "s[6:]"
      ],
      "execution_count": 21,
      "outputs": [
        {
          "output_type": "execute_result",
          "data": {
            "text/plain": [
              "'man'"
            ]
          },
          "metadata": {
            "tags": []
          },
          "execution_count": 21
        }
      ]
    },
    {
      "cell_type": "code",
      "metadata": {
        "id": "iUrkzp9wZqiy",
        "colab_type": "code",
        "colab": {
          "base_uri": "https://localhost:8080/",
          "height": 34
        },
        "outputId": "95fcee8c-e9e2-4cf9-ec59-6e9e42c6a53c"
      },
      "source": [
        "# string operation - concatenate\n",
        "s1 = 'bat'\n",
        "s2 = 'man'\n",
        "s1 + s2"
      ],
      "execution_count": 23,
      "outputs": [
        {
          "output_type": "execute_result",
          "data": {
            "text/plain": [
              "'batman'"
            ]
          },
          "metadata": {
            "tags": []
          },
          "execution_count": 23
        }
      ]
    },
    {
      "cell_type": "code",
      "metadata": {
        "id": "DJzOiEtYZuOB",
        "colab_type": "code",
        "colab": {
          "base_uri": "https://localhost:8080/",
          "height": 54
        },
        "outputId": "403cee41-e905-42b2-eea4-fb3885a0fe1b"
      },
      "source": [
        "# string operation - duplicate\n",
        "s = 'bruh '\n",
        "s * 100"
      ],
      "execution_count": 25,
      "outputs": [
        {
          "output_type": "execute_result",
          "data": {
            "text/plain": [
              "'bruh bruh bruh bruh bruh bruh bruh bruh bruh bruh bruh bruh bruh bruh bruh bruh bruh bruh bruh bruh bruh bruh bruh bruh bruh bruh bruh bruh bruh bruh bruh bruh bruh bruh bruh bruh bruh bruh bruh bruh bruh bruh bruh bruh bruh bruh bruh bruh bruh bruh bruh bruh bruh bruh bruh bruh bruh bruh bruh bruh bruh bruh bruh bruh bruh bruh bruh bruh bruh bruh bruh bruh bruh bruh bruh bruh bruh bruh bruh bruh bruh bruh bruh bruh bruh bruh bruh bruh bruh bruh bruh bruh bruh bruh bruh bruh bruh bruh bruh bruh '"
            ]
          },
          "metadata": {
            "tags": []
          },
          "execution_count": 25
        }
      ]
    },
    {
      "cell_type": "code",
      "metadata": {
        "id": "8Nbhi3FgaHCK",
        "colab_type": "code",
        "colab": {
          "base_uri": "https://localhost:8080/",
          "height": 34
        },
        "outputId": "384bfd85-617b-4e13-ce30-389e159a22c4"
      },
      "source": [
        "# string operation - case\n",
        "s = 'OOI'\n",
        "s.upper() # upper\n",
        "s.lower() # lower"
      ],
      "execution_count": 27,
      "outputs": [
        {
          "output_type": "execute_result",
          "data": {
            "text/plain": [
              "'ooi'"
            ]
          },
          "metadata": {
            "tags": []
          },
          "execution_count": 27
        }
      ]
    },
    {
      "cell_type": "code",
      "metadata": {
        "id": "uSSHC-4saPIb",
        "colab_type": "code",
        "colab": {
          "base_uri": "https://localhost:8080/",
          "height": 34
        },
        "outputId": "7fcc7696-6f6d-4ae5-ba23-a94ddd2231d0"
      },
      "source": [
        "# string operation - check numeric\n",
        "s = '111111111111111111111111111111111'\n",
        "s.isdigit()"
      ],
      "execution_count": 29,
      "outputs": [
        {
          "output_type": "execute_result",
          "data": {
            "text/plain": [
              "True"
            ]
          },
          "metadata": {
            "tags": []
          },
          "execution_count": 29
        }
      ]
    },
    {
      "cell_type": "code",
      "metadata": {
        "id": "lxGeAHKKaS0a",
        "colab_type": "code",
        "colab": {
          "base_uri": "https://localhost:8080/",
          "height": 34
        },
        "outputId": "9a316cbe-553c-437d-a47b-ef8ba6d9696d"
      },
      "source": [
        "# string operation - check alphanumeric\n",
        "s = 'purple'\n",
        "s.isalnum()"
      ],
      "execution_count": 30,
      "outputs": [
        {
          "output_type": "execute_result",
          "data": {
            "text/plain": [
              "True"
            ]
          },
          "metadata": {
            "tags": []
          },
          "execution_count": 30
        }
      ]
    },
    {
      "cell_type": "code",
      "metadata": {
        "id": "eEbKhMUnthpm",
        "colab_type": "code",
        "colab": {
          "base_uri": "https://localhost:8080/",
          "height": 68
        },
        "outputId": "e4e08786-accd-4d45-92e9-a0607e23e1d8"
      },
      "source": [
        "# nric program\n",
        "\n",
        "nric = str(input())\n",
        "valid_nric = False\n",
        "if nric[0] == 'T':\n",
        "  valid_nric = True\n",
        "if nric[1:-1].isdigit():\n",
        "  valid_nric = True\n",
        "if nric[-1].isalpha():\n",
        "  valid_nric = True\n",
        "print(valid_nric)\n",
        "print('Born in 20' + nric[1:3])\n",
        "  "
      ],
      "execution_count": 34,
      "outputs": [
        {
          "output_type": "stream",
          "text": [
            "T0324240J\n",
            "True\n",
            "Born in 2003\n"
          ],
          "name": "stdout"
        }
      ]
    },
    {
      "cell_type": "code",
      "metadata": {
        "id": "mUMhd32EbLWp",
        "colab_type": "code",
        "colab": {
          "base_uri": "https://localhost:8080/",
          "height": 34
        },
        "outputId": "8c422125-8f6d-4301-9dd9-f1c12a4b4996"
      },
      "source": [
        "# string operation - reverse\n",
        "s = 'Batman'\n",
        "s[::-1]"
      ],
      "execution_count": 36,
      "outputs": [
        {
          "output_type": "execute_result",
          "data": {
            "text/plain": [
              "'namtaB'"
            ]
          },
          "metadata": {
            "tags": []
          },
          "execution_count": 36
        }
      ]
    },
    {
      "cell_type": "code",
      "metadata": {
        "id": "mWEuim0YcHIy",
        "colab_type": "code",
        "colab": {
          "base_uri": "https://localhost:8080/",
          "height": 51
        },
        "outputId": "8b445ee4-52fa-4b48-e283-8f013882df12"
      },
      "source": [
        "# string formatting\n",
        "# format method\n",
        "from math import *\n",
        "name = 'cow'\n",
        "print('{0:.2f} {1}'.format(pi, name))\n",
        "\n",
        "# f-string (new from Python 3.6)\n",
        "print(f\"{pi:.2f} {name}\")"
      ],
      "execution_count": 46,
      "outputs": [
        {
          "output_type": "stream",
          "text": [
            "3.14 cow\n",
            "3.14 cow\n"
          ],
          "name": "stdout"
        }
      ]
    },
    {
      "cell_type": "code",
      "metadata": {
        "id": "7pBR7yxRxI2T",
        "colab_type": "code",
        "colab": {
          "base_uri": "https://localhost:8080/",
          "height": 51
        },
        "outputId": "1ed280b2-eb91-4a3d-e337-7962081a02e0"
      },
      "source": [
        "# lists / arrays\n",
        "\n",
        "s = 'Tom' # immutable\n",
        "list1 = ['T', 'o', 'm'] # mutable\n",
        "print(len(s))\n",
        "print(len(list1))"
      ],
      "execution_count": 47,
      "outputs": [
        {
          "output_type": "stream",
          "text": [
            "3\n",
            "3\n"
          ],
          "name": "stdout"
        }
      ]
    },
    {
      "cell_type": "code",
      "metadata": {
        "id": "rDahDaDrxty7",
        "colab_type": "code",
        "colab": {
          "base_uri": "https://localhost:8080/",
          "height": 34
        },
        "outputId": "f8cf7178-4d19-4943-e756-d361f620936e"
      },
      "source": [
        "list1[0] = 'M'\n",
        "list1"
      ],
      "execution_count": 49,
      "outputs": [
        {
          "output_type": "execute_result",
          "data": {
            "text/plain": [
              "['M', 'o', 'm']"
            ]
          },
          "metadata": {
            "tags": []
          },
          "execution_count": 49
        }
      ]
    },
    {
      "cell_type": "code",
      "metadata": {
        "id": "fR3LT6XFx7Nk",
        "colab_type": "code",
        "colab": {
          "base_uri": "https://localhost:8080/",
          "height": 85
        },
        "outputId": "9bb8c934-fe55-48d0-8c89-10843158c534"
      },
      "source": [
        "print(s[-1])\n",
        "print(list1[0])\n",
        "print(s[-1])\n",
        "print(list1[-1])"
      ],
      "execution_count": 50,
      "outputs": [
        {
          "output_type": "stream",
          "text": [
            "m\n",
            "M\n",
            "m\n",
            "m\n"
          ],
          "name": "stdout"
        }
      ]
    },
    {
      "cell_type": "code",
      "metadata": {
        "id": "QSupHHK_yLng",
        "colab_type": "code",
        "colab": {
          "base_uri": "https://localhost:8080/",
          "height": 34
        },
        "outputId": "3379d9de-43d2-4ee3-8e7f-ea04d3fc7c21"
      },
      "source": [
        "list1 = []\n",
        "list1\n",
        "len(list1)\n",
        "list1.append('B')\n",
        "list1\n",
        "list1.append('a')\n",
        "list1\n",
        "list1.append(pi)\n",
        "list1"
      ],
      "execution_count": 53,
      "outputs": [
        {
          "output_type": "execute_result",
          "data": {
            "text/plain": [
              "['B', 'a', 3.141592653589793]"
            ]
          },
          "metadata": {
            "tags": []
          },
          "execution_count": 53
        }
      ]
    },
    {
      "cell_type": "code",
      "metadata": {
        "id": "XtHt4xe5yq3o",
        "colab_type": "code",
        "colab": {
          "base_uri": "https://localhost:8080/",
          "height": 34
        },
        "outputId": "a7b8bcef-4f50-446b-bc1c-b41ce49f99f9"
      },
      "source": [
        "list1.insert(3, 'p')\n",
        "list1"
      ],
      "execution_count": 56,
      "outputs": [
        {
          "output_type": "execute_result",
          "data": {
            "text/plain": [
              "[35, 'B', 'a', 'p', 35, 3.141592653589793]"
            ]
          },
          "metadata": {
            "tags": []
          },
          "execution_count": 56
        }
      ]
    }
  ]
}